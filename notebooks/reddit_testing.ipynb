{
 "cells": [
  {
   "cell_type": "code",
   "execution_count": 1,
   "metadata": {},
   "outputs": [
    {
     "name": "stdout",
     "output_type": "stream",
     "text": [
      "Requirement already satisfied: python-dotenv in /Users/alaney2/Documents/reddit_crypto_sentiment_analysis/venv/lib/python3.10/site-packages (1.0.1)\n",
      "\n",
      "\u001b[1m[\u001b[0m\u001b[34;49mnotice\u001b[0m\u001b[1;39;49m]\u001b[0m\u001b[39;49m A new release of pip available: \u001b[0m\u001b[31;49m22.3.1\u001b[0m\u001b[39;49m -> \u001b[0m\u001b[32;49m24.3.1\u001b[0m\n",
      "\u001b[1m[\u001b[0m\u001b[34;49mnotice\u001b[0m\u001b[1;39;49m]\u001b[0m\u001b[39;49m To update, run: \u001b[0m\u001b[32;49mpip install --upgrade pip\u001b[0m\n",
      "Note: you may need to restart the kernel to use updated packages.\n"
     ]
    },
    {
     "name": "stderr",
     "output_type": "stream",
     "text": [
      "[nltk_data] Downloading package vader_lexicon to\n",
      "[nltk_data]     /Users/alaney2/nltk_data...\n",
      "[nltk_data]   Package vader_lexicon is already up-to-date!\n"
     ]
    },
    {
     "name": "stdout",
     "output_type": "stream",
     "text": [
      "[Submission(id='ms96il'), Submission(id='n184f8'), Submission(id='nn3gnj'), Submission(id='nrwfze'), Submission(id='ncubti'), Submission(id='nqfqc9'), Submission(id='n7p6lg'), Submission(id='n8j6cp'), Submission(id='lgaiku'), Submission(id='mtbkvk')]\n"
     ]
    },
    {
     "data": {
      "text/plain": [
       "{'comment_limit': 2048,\n",
       " 'comment_sort': 'confidence',\n",
       " '_reddit': <praw.reddit.Reddit at 0x105c380a0>,\n",
       " 'approved_at_utc': None,\n",
       " 'subreddit': Subreddit(display_name='CryptoMarkets'),\n",
       " 'selftext': '',\n",
       " 'author_fullname': 't2_cghefnv',\n",
       " 'saved': False,\n",
       " 'mod_reason_title': None,\n",
       " 'gilded': 0,\n",
       " 'clicked': False,\n",
       " 'title': 'When you’ve spent the past 4 years carefully researching and building a solid crypto portfolio and then all your friends quintuple their money in 1 day off a DOGE meme on the Robinhood app',\n",
       " 'link_flair_richtext': [{'e': 'text', 't': 'Tool'}],\n",
       " 'subreddit_name_prefixed': 'r/CryptoMarkets',\n",
       " 'hidden': False,\n",
       " 'pwls': 6,\n",
       " 'link_flair_css_class': 'tool',\n",
       " 'downs': 0,\n",
       " 'thumbnail_height': 70,\n",
       " 'top_awarded_type': None,\n",
       " 'hide_score': False,\n",
       " 'name': 't3_ms96il',\n",
       " 'quarantine': False,\n",
       " 'link_flair_text_color': None,\n",
       " 'upvote_ratio': 0.98,\n",
       " 'author_flair_background_color': None,\n",
       " 'subreddit_type': 'public',\n",
       " 'ups': 4815,\n",
       " 'total_awards_received': 0,\n",
       " 'media_embed': {},\n",
       " 'thumbnail_width': 140,\n",
       " 'author_flair_template_id': '369b4874-6c3d-11e9-9795-0af0e0456bf4',\n",
       " 'is_original_content': False,\n",
       " 'user_reports': [],\n",
       " 'secure_media': None,\n",
       " 'is_reddit_media_domain': False,\n",
       " 'is_meta': False,\n",
       " 'category': None,\n",
       " 'secure_media_embed': {},\n",
       " 'link_flair_text': 'Tool',\n",
       " 'can_mod_post': False,\n",
       " 'score': 4815,\n",
       " 'approved_by': None,\n",
       " 'is_created_from_ads_ui': False,\n",
       " 'author_premium': False,\n",
       " 'thumbnail': 'https://b.thumbs.redditmedia.com/Ic9YqZ9_hfKkv1WYdbXoMNI3F42w36lnb-jhksIjU5A.jpg',\n",
       " 'edited': False,\n",
       " 'author_flair_css_class': 'noflair',\n",
       " 'author_flair_richtext': [],\n",
       " 'gildings': {},\n",
       " 'post_hint': 'image',\n",
       " 'content_categories': None,\n",
       " 'is_self': False,\n",
       " 'mod_note': None,\n",
       " 'created': 1618597169.0,\n",
       " 'link_flair_type': 'richtext',\n",
       " 'wls': 6,\n",
       " 'removed_by_category': None,\n",
       " 'banned_by': None,\n",
       " 'author_flair_type': 'text',\n",
       " 'domain': 'i.imgur.com',\n",
       " 'allow_live_comments': True,\n",
       " 'selftext_html': None,\n",
       " 'likes': None,\n",
       " 'suggested_sort': None,\n",
       " 'banned_at_utc': None,\n",
       " 'url_overridden_by_dest': 'https://i.imgur.com/g8Tzti4.jpg',\n",
       " 'view_count': None,\n",
       " 'archived': True,\n",
       " 'no_follow': False,\n",
       " 'is_crosspostable': False,\n",
       " 'pinned': False,\n",
       " 'over_18': False,\n",
       " 'preview': {'images': [{'source': {'url': 'https://external-preview.redd.it/ESPM-tTuK3werLgfWG_wBsw_trUSDNU4bI5s2jVRAgQ.png?auto=webp&s=5516eaced3d9aa38c5fb842ca40ea36a3c164eed',\n",
       "     'width': 161,\n",
       "     'height': 81},\n",
       "    'resolutions': [{'url': 'https://external-preview.redd.it/ESPM-tTuK3werLgfWG_wBsw_trUSDNU4bI5s2jVRAgQ.png?width=108&crop=smart&auto=webp&s=6bdf4d9c8ec6b3100f803c1cf0848f49a5aee344',\n",
       "      'width': 108,\n",
       "      'height': 54}],\n",
       "    'variants': {},\n",
       "    'id': 'm1k29ABhRuTh6QJbR0wChjwLVhQTKtQNtLkloQ6L-7k'}],\n",
       "  'enabled': True},\n",
       " 'all_awardings': [],\n",
       " 'awarders': [],\n",
       " 'media_only': False,\n",
       " 'can_gild': False,\n",
       " 'spoiler': False,\n",
       " 'locked': False,\n",
       " 'author_flair_text': '',\n",
       " 'treatment_tags': [],\n",
       " 'visited': False,\n",
       " 'removed_by': None,\n",
       " 'num_reports': None,\n",
       " 'distinguished': None,\n",
       " 'subreddit_id': 't5_2z2wm',\n",
       " 'author_is_blocked': False,\n",
       " 'mod_reason_by': None,\n",
       " 'removal_reason': None,\n",
       " 'link_flair_background_color': None,\n",
       " 'id': 'ms96il',\n",
       " 'is_robot_indexable': True,\n",
       " 'report_reasons': None,\n",
       " 'author': Redditor(name='PorzingisDingus'),\n",
       " 'discussion_type': None,\n",
       " 'num_comments': 363,\n",
       " 'send_replies': True,\n",
       " 'contest_mode': False,\n",
       " 'mod_reports': [],\n",
       " 'author_patreon_flair': False,\n",
       " 'author_flair_text_color': 'dark',\n",
       " 'permalink': '/r/CryptoMarkets/comments/ms96il/when_youve_spent_the_past_4_years_carefully/',\n",
       " 'stickied': False,\n",
       " 'url': 'https://i.imgur.com/g8Tzti4.jpg',\n",
       " 'subreddit_subscribers': 1698140,\n",
       " 'created_utc': 1618597169.0,\n",
       " 'num_crossposts': 1,\n",
       " 'media': None,\n",
       " 'is_video': False,\n",
       " '_fetched': False,\n",
       " '_additional_fetch_params': {},\n",
       " '_comments_by_id': {}}"
      ]
     },
     "execution_count": 1,
     "metadata": {},
     "output_type": "execute_result"
    }
   ],
   "source": [
    "import sys, os\n",
    "sys.path.insert(1, '../src/')\n",
    "# from ..src.reddit_grab import *\n",
    "%pip install python-dotenv\n",
    "from reddit_grab import *\n",
    "\n",
    "sesh = RedditSession()\n",
    "\n",
    "print(sesh.get_posts_from_subreddit(\"CryptoMarkets\"))\n",
    "\n",
    "sesh.get_posts_from_subreddit(\"CryptoMarkets\")[0].__dict__"
   ]
  },
  {
   "cell_type": "code",
   "execution_count": 2,
   "metadata": {},
   "outputs": [
    {
     "data": {
      "text/plain": [
       "['Coinbase Global Inc. (COIN) Stock Analysis as of November 20, 2024',\n",
       " 'Can Treasury-linked stablecoins bring stability to DeFi?',\n",
       " 'Which crypto should I invest 100 dollars on?']"
      ]
     },
     "execution_count": 2,
     "metadata": {},
     "output_type": "execute_result"
    }
   ],
   "source": [
    "posts = sesh.get_posts_from_subreddit(\"CryptoMarkets\", limit=50, sort_type=\"new\")\n",
    "[post.title for post in posts][:3]"
   ]
  },
  {
   "cell_type": "code",
   "execution_count": 3,
   "metadata": {},
   "outputs": [
    {
     "data": {
      "text/plain": [
       "['Coinbase Global Inc. (COIN) Stock Analysis as of November 20, 2024',\n",
       " 'Can Treasury-linked stablecoins bring stability to DeFi?',\n",
       " 'Which crypto should I invest 100 dollars on?',\n",
       " 'Money for gas? ',\n",
       " 'TON has changed the role of crypto games',\n",
       " 'Why crypto guys are racing to the Dubai realestate market? ',\n",
       " 'How much higher can we go?',\n",
       " 'NBA’s Shaq Slapped with $11M Penalty over Astrals NFT Scandal',\n",
       " '2025 Crypto Predictions',\n",
       " 'Top AI Projects By Annual Revenue',\n",
       " 'Crypto app different prices?',\n",
       " 'Web3 loyalty programs: What’s holding them back?',\n",
       " 'Title: Best free app for tracking crypto wallets and overall investment portfolio?',\n",
       " 'What remains of Bitcoin as a Revolution freeing us from the Fiat System?',\n",
       " 'Debut of Bitcoin ETF Options Is Latest Boost for Crypto From US',\n",
       " 'What Happens to Crypto in a Nuclear War Without Internet ?',\n",
       " 'How to break from my bad luck cycle',\n",
       " 'Daily Discussion Megathread - November 20, 2024 (GMT+0)',\n",
       " 'Microstrategy downsides',\n",
       " 'IS A BITCOIN CRASH IMMINENT?!',\n",
       " 'Ripple (XRP) Explosive Price Surge Explained',\n",
       " 'I just put 100€ into BTC and wondering if IS should deversify with another 100-200€ I will put soon',\n",
       " 'New',\n",
       " 'Michael Saylor on Warren Buffett holding $325B in cash: \"They are destroying $3B a month in shareholder capital. They are generating a 3% after-tax yield at best and the cost of capital is 15%. Take 12% negative real yield, $325B times 12% is what the shareholders are paying for that.\"',\n",
       " 'I need an advice.',\n",
       " 'BNB Eth sent via Ethereum network (Trust ----> CB)',\n",
       " '10 eth folio diversification',\n",
       " 'Selling/\"cashing out\" memecoins.',\n",
       " 'Stronghold Finally Agreed to Pay $4.75M And 25 Bitcoins to Investors Over 2021 IPO Scandal',\n",
       " 'My Strategy',\n",
       " 'Why Crypto?',\n",
       " 'Need advise on crypto investment ',\n",
       " 'Fear and gread index as an indicator',\n",
       " 'What if alt season is canceled this year?',\n",
       " 'If you had $100 what would you do? ',\n",
       " 'Any advanced crypto trading apps?',\n",
       " 'Which exchange is the most stable in the heat of the moment?',\n",
       " 'More coins on coin base / opinions on what I have ',\n",
       " 'Bitcoin has smashed records. Should you invest? | CNN Business',\n",
       " 'Newbie',\n",
       " 'Chart multiple tokens',\n",
       " 'I need an objective opinion',\n",
       " 'HBAR Price to Crack $0.50? SpaceX Taps Hedera for Next Mission',\n",
       " 'how can i get into this while being under 18',\n",
       " 'Transfer crypto OUT of Etoro',\n",
       " 'Is it too late?',\n",
       " 'Question',\n",
       " 'Bitcoin ',\n",
       " 'Bitcoin and Ethereum ETFs Add Billions, Breaking Record for Crypto Products - Decrypt',\n",
       " \"Options on BlackRock's Bitcoin ETF Will Launch Tuesday - Decrypt\"]"
      ]
     },
     "execution_count": 3,
     "metadata": {},
     "output_type": "execute_result"
    }
   ],
   "source": [
    "sesh.get_post_titles(posts)"
   ]
  },
  {
   "cell_type": "code",
   "execution_count": 4,
   "metadata": {},
   "outputs": [
    {
     "data": {
      "text/plain": [
       "['/r/CryptoMarkets/comments/1gw2vi0/coinbase_global_inc_coin_stock_analysis_as_of/',\n",
       " '/r/CryptoMarkets/comments/1gw1pvg/can_treasurylinked_stablecoins_bring_stability_to/',\n",
       " '/r/CryptoMarkets/comments/1gw0noj/which_crypto_should_i_invest_100_dollars_on/',\n",
       " '/r/CryptoMarkets/comments/1gvz6ka/money_for_gas/',\n",
       " '/r/CryptoMarkets/comments/1gvyxxh/ton_has_changed_the_role_of_crypto_games/',\n",
       " '/r/CryptoMarkets/comments/1gvy5u1/why_crypto_guys_are_racing_to_the_dubai/',\n",
       " '/r/CryptoMarkets/comments/1gvwejx/how_much_higher_can_we_go/',\n",
       " '/r/CryptoMarkets/comments/1gvuskg/nbas_shaq_slapped_with_11m_penalty_over_astrals/',\n",
       " '/r/CryptoMarkets/comments/1gv2ana/2025_crypto_predictions/',\n",
       " '/r/CryptoMarkets/comments/1gv9abf/top_ai_projects_by_annual_revenue/',\n",
       " '/r/CryptoMarkets/comments/1gvsira/crypto_app_different_prices/',\n",
       " '/r/CryptoMarkets/comments/1gvsib4/web3_loyalty_programs_whats_holding_them_back/',\n",
       " '/r/CryptoMarkets/comments/1gvpmm7/title_best_free_app_for_tracking_crypto_wallets/',\n",
       " '/r/CryptoMarkets/comments/1gvp0o1/what_remains_of_bitcoin_as_a_revolution_freeing/',\n",
       " '/r/CryptoMarkets/comments/1gvop5f/debut_of_bitcoin_etf_options_is_latest_boost_for/',\n",
       " '/r/CryptoMarkets/comments/1gvojs3/what_happens_to_crypto_in_a_nuclear_war_without/',\n",
       " '/r/CryptoMarkets/comments/1gvnzxy/how_to_break_from_my_bad_luck_cycle/',\n",
       " '/r/CryptoMarkets/comments/1gvnuvo/daily_discussion_megathread_november_20_2024_gmt0/',\n",
       " '/r/CryptoMarkets/comments/1gvmg26/microstrategy_downsides/',\n",
       " '/r/CryptoMarkets/comments/1gvhhdn/is_a_bitcoin_crash_imminent/',\n",
       " '/r/CryptoMarkets/comments/1gvhaov/ripple_xrp_explosive_price_surge_explained/',\n",
       " '/r/CryptoMarkets/comments/1gvjp7m/i_just_put_100_into_btc_and_wondering_if_is/',\n",
       " '/r/CryptoMarkets/comments/1gvjbyc/new/',\n",
       " '/r/CryptoMarkets/comments/1gviual/michael_saylor_on_warren_buffett_holding_325b_in/',\n",
       " '/r/CryptoMarkets/comments/1gvi6t0/i_need_an_advice/',\n",
       " '/r/CryptoMarkets/comments/1gvhv1l/bnb_eth_sent_via_ethereum_network_trust_cb/',\n",
       " '/r/CryptoMarkets/comments/1gvhpj7/10_eth_folio_diversification/',\n",
       " '/r/CryptoMarkets/comments/1gvfr3h/sellingcashing_out_memecoins/',\n",
       " '/r/CryptoMarkets/comments/1guwri2/stronghold_finally_agreed_to_pay_475m_and_25/',\n",
       " '/r/CryptoMarkets/comments/1gvf1w9/my_strategy/',\n",
       " '/r/CryptoMarkets/comments/1gveqa7/why_crypto/',\n",
       " '/r/CryptoMarkets/comments/1gve5a1/need_advise_on_crypto_investment/',\n",
       " '/r/CryptoMarkets/comments/1gvdpfl/fear_and_gread_index_as_an_indicator/',\n",
       " '/r/CryptoMarkets/comments/1gvcqqa/what_if_alt_season_is_canceled_this_year/',\n",
       " '/r/CryptoMarkets/comments/1gvarcz/if_you_had_100_what_would_you_do/',\n",
       " '/r/CryptoMarkets/comments/1gvakni/any_advanced_crypto_trading_apps/',\n",
       " '/r/CryptoMarkets/comments/1gvadhe/which_exchange_is_the_most_stable_in_the_heat_of/',\n",
       " '/r/CryptoMarkets/comments/1gv97el/more_coins_on_coin_base_opinions_on_what_i_have/',\n",
       " '/r/CryptoMarkets/comments/1gv8vzo/bitcoin_has_smashed_records_should_you_invest_cnn/',\n",
       " '/r/CryptoMarkets/comments/1gv82g1/newbie/',\n",
       " '/r/CryptoMarkets/comments/1gv80mi/chart_multiple_tokens/',\n",
       " '/r/CryptoMarkets/comments/1gv7huq/i_need_an_objective_opinion/',\n",
       " '/r/CryptoMarkets/comments/1gv6uz9/hbar_price_to_crack_050_spacex_taps_hedera_for/',\n",
       " '/r/CryptoMarkets/comments/1gv6r2r/how_can_i_get_into_this_while_being_under_18/',\n",
       " '/r/CryptoMarkets/comments/1gv6gb8/transfer_crypto_out_of_etoro/',\n",
       " '/r/CryptoMarkets/comments/1gv5ul0/is_it_too_late/',\n",
       " '/r/CryptoMarkets/comments/1gv3bje/question/',\n",
       " '/r/CryptoMarkets/comments/1guwd09/bitcoin/',\n",
       " '/r/CryptoMarkets/comments/1gunjwp/bitcoin_and_ethereum_etfs_add_billions_breaking/',\n",
       " '/r/CryptoMarkets/comments/1gun72n/options_on_blackrocks_bitcoin_etf_will_launch/']"
      ]
     },
     "execution_count": 4,
     "metadata": {},
     "output_type": "execute_result"
    }
   ],
   "source": [
    "sesh.get_post_urls(posts)"
   ]
  },
  {
   "cell_type": "code",
   "execution_count": 5,
   "metadata": {},
   "outputs": [],
   "source": [
    "cont = sesh.get_post_contents(posts)"
   ]
  },
  {
   "cell_type": "code",
   "execution_count": 6,
   "metadata": {},
   "outputs": [
    {
     "data": {
      "text/plain": [
       "'# Market Performance Metrics:\\n\\n* **Current Stock Price:**\\xa0$320.01\\n* **Percentage Change Today:**\\xa0\\\\-1.44%\\n* **Trading Volume:**\\xa010,404,873 shares\\n* **Market Capitalization:**\\xa0Approximately $75.26 billion\\n\\n**Significant News and Developments:**\\n\\n* **Post-Election Crypto Surge:**\\xa0Following the U.S. presidential election, Coinbase experienced increased trading activity, with CEO Brian Armstrong highlighting a \"new crypto era.\"\\xa0[Investopedia](https://www.investopedia.com/why-coinbase-ceo-sees-trump-s-win-as-the-dawn-of-a-new-crypto-era-8743544?utm_source=chatgpt.com)\\n* **Regulatory Engagement:**\\xa0Coinbase continues to seek clarity from the SEC, filing Freedom of Information Act requests to understand the government\\'s stance on digital asset regulation.\\xa0[Wikipedia](https://en.wikipedia.org/wiki/Coinbase?utm_source=chatgpt.com)\\n* **Product Launches:**\\xa0The company introduced cbBTC, a fully backed version of wrapped Bitcoin, and launched the Coinbase 50 Index, tracking the top 50 cryptocurrencies.\\xa0[AOL](https://www.aol.com/finance/coin50-know-coinbase-crypto-index-160300052.html?utm_source=chatgpt.com)\\n\\n**Analyst Insights:**\\n\\n* **Price Targets:**\\n   * High: $400.00\\n   * Median: $247.50\\n   * Low: $165.00\\n   * Average: $257.46\\n* **Recommendations:**\\n   * Buy: 12 analysts\\n   * Overweight: 1 analyst\\n   * Hold: 14 analysts\\n   * Underweight: 1 analyst\\n   * Sell: 2 analysts\\n* **Consensus Rating:**\\xa0Overweight, indicating a generally positive outlook.\\xa0[Wall Street Journal](https://www.wsj.com/market-data/quotes/COIN/research-ratings?utm_source=chatgpt.com)\\n\\n**Comparative Analysis with Peers and Market:**\\n\\n* **Performance Against S&P 500 Today:**\\n   * COIN: -1.44%\\n   * S&P 500: +0.40%\\n* **Performance of Key Peers Today:**\\n   * Block Inc. (SQ): +0.75%\\n   * Robinhood Markets Inc. (HOOD): -0.50%\\n   * PayPal Holdings Inc. (PYPL): +0.60%\\n\\n*Note:*\\xa0COIN underperformed both the S&P 500 and its key peers today.\\n\\n**Technical Analysis:**\\n\\n* **Moving Averages:**\\n   * 50-Day SMA: $291.15\\n   * 200-Day SMA: $222.29\\n   * Current Price: $320.01 (above both SMAs, indicating a bullish trend)\\xa0[Stock Analysis](https://stockanalysis.com/stocks/coin/?utm_source=chatgpt.com)\\n* **Relative Strength Index (RSI):**\\xa060.64 (suggests positive momentum without overbought conditions)\\xa0[Stock Analysis](https://stockanalysis.com/stocks/coin/?utm_source=chatgpt.com)\\n* **MACD:**\\xa0Positive value of 2.45, supporting the bullish outlook.\\xa0[Stock Analysis](https://stockanalysis.com/stocks/coin/?utm_source=chatgpt.com)\\n\\n**Investor Sentiment:**\\n\\n* **Analyst Recommendations:**\\xa0Majority are positive, with 12 \"Buy\" and 14 \"Hold\" ratings.\\xa0[Wall Street Journal](https://www.wsj.com/market-data/quotes/COIN/research-ratings?utm_source=chatgpt.com)\\n* **Investor Activity:**\\n   * 46% increase in searches for COIN on MarketBeat over the past 30 days.\\n   * 83% rise in individuals adding COIN to their watchlists in the same period.\\xa0[MarketBeat](https://www.marketbeat.com/stocks/NASDAQ/COIN/?utm_source=chatgpt.com)\\n* **Market Trends:**\\n   * Bitcoin\\'s surge to over $94,000 positively impacts COIN due to increased trading volumes.\\xa0[Barron\\'s](https://www.barrons.com/articles/bitcoin-all-time-high-trump-crypto-d5780906?utm_source=chatgpt.com)\\n   * Anticipated regulatory easing under the new administration boosts market optimism.\\xa0[Barron\\'s](https://www.barrons.com/articles/coinbase-robinhood-trump-crypto-regulation-9837e323?utm_source=chatgpt.com)\\n   * Growing institutional adoption of cryptocurrencies enhances the credibility of platforms like Coinbase.\\xa0[Barron\\'s](https://www.barrons.com/articles/bitcoin-price-all-time-high-d5780906?utm_source=chatgpt.com)\\n\\n*Note:*\\xa0While the overall sentiment is positive, investors should remain aware of the inherent volatility in the cryptocurrency sector.\\n\\nBuilt by\\xa0[Agentic Workers](https://www.agenticworkers.com/library/sr7w_fy3-2p651olk-nwj-create-a-daily-report-on-a-specific-stock)'"
      ]
     },
     "execution_count": 6,
     "metadata": {},
     "output_type": "execute_result"
    }
   ],
   "source": [
    "cont[0]"
   ]
  },
  {
   "cell_type": "code",
   "execution_count": 7,
   "metadata": {},
   "outputs": [
    {
     "data": {
      "text/plain": [
       "{'',\n",
       " '\\nhttps://www.bloomberg.com/news/articles/2024-11-20/debut-of-bitcoin-btc-etf-options-is-latest-boost-for-crypto-from-us?utm_campaign=socialflow-organic&utm_content=crypto&utm_medium=social&utm_source=twitter&embedded-checkout=true&s=34',\n",
       " '# Market Performance Metrics:\\n\\n* **Current Stock Price:**\\xa0$320.01\\n* **Percentage Change Today:**\\xa0\\\\-1.44%\\n* **Trading Volume:**\\xa010,404,873 shares\\n* **Market Capitalization:**\\xa0Approximately $75.26 billion\\n\\n**Significant News and Developments:**\\n\\n* **Post-Election Crypto Surge:**\\xa0Following the U.S. presidential election, Coinbase experienced increased trading activity, with CEO Brian Armstrong highlighting a \"new crypto era.\"\\xa0[Investopedia](https://www.investopedia.com/why-coinbase-ceo-sees-trump-s-win-as-the-dawn-of-a-new-crypto-era-8743544?utm_source=chatgpt.com)\\n* **Regulatory Engagement:**\\xa0Coinbase continues to seek clarity from the SEC, filing Freedom of Information Act requests to understand the government\\'s stance on digital asset regulation.\\xa0[Wikipedia](https://en.wikipedia.org/wiki/Coinbase?utm_source=chatgpt.com)\\n* **Product Launches:**\\xa0The company introduced cbBTC, a fully backed version of wrapped Bitcoin, and launched the Coinbase 50 Index, tracking the top 50 cryptocurrencies.\\xa0[AOL](https://www.aol.com/finance/coin50-know-coinbase-crypto-index-160300052.html?utm_source=chatgpt.com)\\n\\n**Analyst Insights:**\\n\\n* **Price Targets:**\\n   * High: $400.00\\n   * Median: $247.50\\n   * Low: $165.00\\n   * Average: $257.46\\n* **Recommendations:**\\n   * Buy: 12 analysts\\n   * Overweight: 1 analyst\\n   * Hold: 14 analysts\\n   * Underweight: 1 analyst\\n   * Sell: 2 analysts\\n* **Consensus Rating:**\\xa0Overweight, indicating a generally positive outlook.\\xa0[Wall Street Journal](https://www.wsj.com/market-data/quotes/COIN/research-ratings?utm_source=chatgpt.com)\\n\\n**Comparative Analysis with Peers and Market:**\\n\\n* **Performance Against S&P 500 Today:**\\n   * COIN: -1.44%\\n   * S&P 500: +0.40%\\n* **Performance of Key Peers Today:**\\n   * Block Inc. (SQ): +0.75%\\n   * Robinhood Markets Inc. (HOOD): -0.50%\\n   * PayPal Holdings Inc. (PYPL): +0.60%\\n\\n*Note:*\\xa0COIN underperformed both the S&P 500 and its key peers today.\\n\\n**Technical Analysis:**\\n\\n* **Moving Averages:**\\n   * 50-Day SMA: $291.15\\n   * 200-Day SMA: $222.29\\n   * Current Price: $320.01 (above both SMAs, indicating a bullish trend)\\xa0[Stock Analysis](https://stockanalysis.com/stocks/coin/?utm_source=chatgpt.com)\\n* **Relative Strength Index (RSI):**\\xa060.64 (suggests positive momentum without overbought conditions)\\xa0[Stock Analysis](https://stockanalysis.com/stocks/coin/?utm_source=chatgpt.com)\\n* **MACD:**\\xa0Positive value of 2.45, supporting the bullish outlook.\\xa0[Stock Analysis](https://stockanalysis.com/stocks/coin/?utm_source=chatgpt.com)\\n\\n**Investor Sentiment:**\\n\\n* **Analyst Recommendations:**\\xa0Majority are positive, with 12 \"Buy\" and 14 \"Hold\" ratings.\\xa0[Wall Street Journal](https://www.wsj.com/market-data/quotes/COIN/research-ratings?utm_source=chatgpt.com)\\n* **Investor Activity:**\\n   * 46% increase in searches for COIN on MarketBeat over the past 30 days.\\n   * 83% rise in individuals adding COIN to their watchlists in the same period.\\xa0[MarketBeat](https://www.marketbeat.com/stocks/NASDAQ/COIN/?utm_source=chatgpt.com)\\n* **Market Trends:**\\n   * Bitcoin\\'s surge to over $94,000 positively impacts COIN due to increased trading volumes.\\xa0[Barron\\'s](https://www.barrons.com/articles/bitcoin-all-time-high-trump-crypto-d5780906?utm_source=chatgpt.com)\\n   * Anticipated regulatory easing under the new administration boosts market optimism.\\xa0[Barron\\'s](https://www.barrons.com/articles/coinbase-robinhood-trump-crypto-regulation-9837e323?utm_source=chatgpt.com)\\n   * Growing institutional adoption of cryptocurrencies enhances the credibility of platforms like Coinbase.\\xa0[Barron\\'s](https://www.barrons.com/articles/bitcoin-price-all-time-high-d5780906?utm_source=chatgpt.com)\\n\\n*Note:*\\xa0While the overall sentiment is positive, investors should remain aware of the inherent volatility in the cryptocurrency sector.\\n\\nBuilt by\\xa0[Agentic Workers](https://www.agenticworkers.com/library/sr7w_fy3-2p651olk-nwj-create-a-daily-report-on-a-specific-stock)',\n",
       " 'Are there any crypto apps that you can see candlestick charts, set stop losses, set a moving average line, and trade with leverage ?',\n",
       " 'As I started recently and still learning I am still wondering if I should get more experience before entering things like XRP wich I think will be my next crypto ',\n",
       " 'Asking for advice.\\n\\nI got have 218 XRP , So is there even point in holding XRP, i already lost like 50 dollars because i kept selling and buying it ( i know big mistake, im still new to crypto trading i know its gonna be a long journey of learning and it will have upside downs). However what should i do should i wait like 2,3 more days. Or should i sell it and use the rest of the money in memecoins. Thank you in a advance ',\n",
       " \"Before you can understand why Bitcoin is essential to our future, pseudo-Bitcoiners keep telling you that you must first understand how money works, and then understand why bankers, whether private or central, and politicians represent evil.\\n\\nYou've understood this, and you've begun to enter the Bitcoin revolution.\\n\\nAnd suddenly you're told that governments are coming in to buy Bitcoin en masse by printing fiat currency out of thin air. And that is great news...\\n\\nPseudo-Bitcoiners tell you that the gradual takeover of Bitcoin by BlackRock and other financial giants is a Bullish thing.\\n\\nYou're also told that there's nothing wrong with bankers becoming intermediaries between the people and Bitcoin, even though Bitcoin was invented to free us from the yoke of the banksters.\\n\\nAren't you lost when faced with all these contradictions from pseudo-Bitcoiners who are only looking for one thing, namely profit in weak money without even understanding where the liberating power of the Bitcoin revolution lies?\\n\\nI look forward to hearing from you.\",\n",
       " \"Bought 0.09 btc underlying asset near the start of the year on etoro but now I'm looking to transfer it, what should I move to? Coinbase, binance, a cold wallet or a different exchange? \",\n",
       " \"Currently checking:\\n\\n* 3 different crypto wallets\\n* Robinhood for stocks\\n* Fidelity for 401k\\n* Coinbase & Gemini\\n* Random stock RSUs\\n\\nTired of logging into 6 different places just to know where I stand. Need something that:\\n\\n* Actually updates in real-time\\n* Shows crypto properly\\n* Works with existing accounts\\n* Doesn't try to sell me wealth management\\n\\nAny recommendations?\",\n",
       " \"Does anyone know of an app to exchange where I can have multiple charts going of different coins on the same screen? I'm pretty sure FTX used to have something where you could watch 4 or more charts at the same time. Thanks!\",\n",
       " 'During and in the end of a bull run it always gets crazy. Exchanges get loads of people on their systems and some fail.\\n\\nWhich exchange is the most resilient in high peaks?\\n\\nI already have problems with an exchange and we ain’t even started yet. My funds are stuck and it can take days to be resolved. \\n\\n',\n",
       " 'Given the rise of microstrategy and over 500% increase since Jan 1st 2024. What are the downsides of holding this?\\n\\nZ',\n",
       " 'Hey boss thanks for taking the time to read this, I want to get into crypto and would like your opinion as to which app to download that will help me invest in not only crypto but the US stock market as well( idk if there are other markets) hope you have a wonderful day I appreciate you. ',\n",
       " 'Hey there, I guess there are some Stronghold investors here, good news for y’all — Stronghold’s finally agreed to settle the financial issues they had a few years ago.\\n\\n\\n\\nFor newbies, back in 2022, Stronghold was accused of hiding issues with contracted suppliers, missed deadlines, and difficulties in obtaining new mining equipment. In March 2022, their financial reports revealed losses higher than they had claimed during their IPO a few months earlier.\\xa0\\n\\n\\n\\nAs a result, $SDIG fell, and investors filed a lawsuit alleging they were misled about Stronghold’s mining capacity, operational costs, and the feasibility of expanding its mining fleet during its IPO.\\n\\n\\n\\nThe good news is that the company finally agreed to pay investors $4.75M + 25 BTC over this whole situation. So, if you were an investor back then, you can check the details and [file for payment here](https://11thestate.com/cases/strongholddigital-investor-settlement).  \\n\\n\\nAnyways, did you invest in Stronghold back then? How big were your losses due to all this?',\n",
       " 'Hey, is it too late to invest in Doge or Sol? Shall I sell some of my ethereum to start purchasing one or the other? Or even both? Any advice for a newbie will be great. ',\n",
       " \"Hi everyone! I’m curious to know what would do if you had 10 eth in your wallet. \\n\\nCouple years ago I earned them through selling my work, and haven’t touched them since. Not staking, nor swapping for other coins, just sitting there.\\n\\nI'm wondering if I should diversify from it to build a portfolio or just keep them as is, I know everyone’s got their opinions and it's not NFA, but just wanted to know your povs.\\n\\nThanks!\",\n",
       " \"Hi, as a real estate agent, most of my clients who buy off plan-properties  are mostly young cryptoguys. Usually they don't bat an eye when making their decisions, while couples take weeks to finalize their purchase,. Why do you think youngsters make quick decision than married Guys?\",\n",
       " 'Hi, so I did crypto investment in 2020 and made good profit and since the downfall began in 2021, I didn’t do. Whatever’s coins I purchased remained as it is. I didn’t now withdraw it or sold them. Now, I feel like in this market I want to make profit. So I wanted to know is it wise enough to sell those existing investment only and trade using them or I should consider putting new money for new trading ?',\n",
       " 'Hi.  Newbie here. Trying to get my USDC to bitcoin in my meta mask and it says I need money for gas\\n\\ngoing a little insane trying to figure it out\\nHelp appreciated :) xx',\n",
       " 'Howdy folks.. So, I’ve got $120 sitting in my Coinbase account, recently unemployed so a lot of time on hands and I’m curious – what would you do with it? I keep hearing these crazy stories about people turning small amounts like $100 into $1,000, $10,000, or even $100,000! Are these runs actually real, or just too good to be true marketing campaigns for some “influencer” to sell you on a course/algorithm trading gimmick. I’d love to hear your experiences and any advice on how to make the most out of $120. ',\n",
       " 'I am about to start investing, but should I wait to buy the dip or DCA from now on?\\n\\nI wanna start a Portfolio with: BTC,ETH,SOL and some XRP or Cardano (starting with small amounts for some years, i am still a student).\\n\\nI dont need the hype guys who say \"yea +2000% tomorrow\" etc. but something that enlights me!\\n\\nWould be really really thankful! ',\n",
       " 'I currently have DOGE XRP XLM AND CRO what are thoughts on these coins ? given recent news I’ve invested heavily \\nI need more options Currently on Coinbase but plan on leaving once I get a better understanding \\n\\nAlso How does crypto usually go during holidays ? Does it tank?',\n",
       " 'I have gathered data of over 20\\xa0[\\\\#AI](https://x.com/hashtag/AI?src=hashtag_click)\\xa0projects, including\\xa0[$TAO](https://x.com/search?q=%24TAO&src=cashtag_click)\\xa0[$FET](https://x.com/search?q=%24FET&src=cashtag_click)\\xa0[$GRASS](https://x.com/search?q=%24GRASS&src=cashtag_click)\\xa0[$AKRM](https://x.com/search?q=%24AKRM&src=cashtag_click)\\xa0[$GLM](https://x.com/search?q=%24GLM&src=cashtag_click)\\xa0[$IO](https://x.com/search?q=%24IO&src=cashtag_click)\\xa0[$NOS](https://x.com/search?q=%24NOS&src=cashtag_click)\\xa0[$AGI](https://x.com/search?q=%24AGI&src=cashtag_click)\\xa0[$FLUX](https://x.com/search?q=%24FLUX&src=cashtag_click)\\xa0[$PAAL](https://x.com/search?q=%24PAAL&src=cashtag_click)\\xa0[$ORAI](https://x.com/search?q=%24ORAI&src=cashtag_click)\\xa0[$NMR](https://x.com/search?q=%24NMR&src=cashtag_click)\\xa0[$AGI](https://x.com/search?q=%24AGI&src=cashtag_click)\\xa0[$TRAC](https://x.com/search?q=%24TRAC&src=cashtag_click)\\xa0[$LINK](https://x.com/search?q=%24LINK&src=cashtag_click)\\xa0[$NEAR](https://x.com/search?q=%24NEAR&src=cashtag_click)\\xa0[$AKT](https://x.com/search?q=%24AKT&src=cashtag_click)\\xa0[$LPT](https://x.com/search?q=%24LPT&src=cashtag_click)\\xa0[$ICP](https://x.com/search?q=%24ICP&src=cashtag_click)\\xa0[$GRT](https://x.com/search?q=%24GRT&src=cashtag_click)\\xa0[$RNDR](https://x.com/search?q=%24RNDR&src=cashtag_click)\\xa0[$AIOZ](https://x.com/search?q=%24AIOZ&src=cashtag_click), and ranked them by annual revenue.\\n\\nFor simplicity, only projects with verifiable revenue are included on this infographic. Time for fundamentals to make a comeback!\\n\\nLink:\\xa0[https://x.com/otnoderunner/status/1858910277334339934](https://x.com/otnoderunner/status/1858910277334339934)\\n\\nReference:\\n\\nCoinmarketcap for market cap +\\n\\nNEAR:\\xa0[https://defillama.com/chain/Near](https://defillama.com/chain/Near)  \\nTRAC:\\xa0[https://othub.io/](https://othub.io/)  \\nICP:\\xa0[https://tokenterminal.com/explorer?v=YmE2MWU5NjdiNTg5YjAwYzcwN2M0NTQx](https://tokenterminal.com/explorer?v=YmE2MWU5NjdiNTg5YjAwYzcwN2M0NTQx)  \\nRNDR:\\xa0[https://dune.com/tobiases/dollarrender-dashboard](https://dune.com/tobiases/dollarrender-dashboard)  \\nGRT:\\xa0[https://tokenterminal.com/explorer?v=YmE2MWU5NjdiNTg5YjAwYzcwN2M0NTQx](https://tokenterminal.com/explorer?v=YmE2MWU5NjdiNTg5YjAwYzcwN2M0NTQx)  \\nAKT:\\xa0[https://stats.akash.network/](https://stats.akash.network/)  \\nLPT:\\xa0[https://dune.com/stronk/livepeer-arbitrum?Time+Window+in+days\\\\_efa4d6=365&Time+Window+in+days\\\\_eab251=180&Time+Window+in+days\\\\_eec59f=365](https://dune.com/stronk/livepeer-arbitrum?Time+Window+in+days_efa4d6=365&Time+Window+in+days_eab251=180&Time+Window+in+days_eec59f=365)',\n",
       " 'I opened up a new credit card last year and got the balance up to $8,250. To be clear, I have the money ready to pay off the card (money is sitting in a high yield savings account) but I chose to only pay the minimum payment each month since I had 0% interest on the card for 12 months, and I would rather have the cash give me ~4% return.\\n\\nInstead of paying off the card when the 0% interest rate expired, I did a balance transfer  (paid a 3% fee at around $247.5) to another credit card I have. Why did I do this? \\n\\nAlthough the high balance affects my credit score, I am not in a position to really worry so much about my credit at this time. So, I used that money to invest in crypto and stocks, and used my regular work income to make minimum payments on the card I transferred the balance to, all while still getting a ~4% return on the cash in savings. \\n\\nSide note, I use my High yield savings account for all my credit card bills, and mortgage, since I can have up to 9 transfers a month. This also Maximuses the amount of interest I receive each month.\\n\\nNow, with the money that is owed on the credit card where I transferred the balance to, I have until summer of next year until the 0% interest expires. But the crypto bull run is here, (stocks have been soaring too) and even after making some shitty trades, I am still ~$2,5k in profit. (not including the YTD interest received from my HYSA)\\n\\n It’s not much, I have been taking profits along the way, and just playing it safe (no leverage or options) since this is technically money I cannot afford to lose since it will be used to pay the card once the 0% balance transfer rate expires. The balance owed would be lower as well since I would be making minimum payments towards that balance.\\n\\nThis is risky, I get it. But you don’t need to really use any extra money to invest. You can apply for a CC, which will have 0% interest for usually 12 months,  and use it as normal for your usual purchases/bills for 11-12 months (and receive cash back as a plus),  keep the money that you would use to pay it off, in the high yield savings account.\\n\\nIn the worst case scenario, if I do a shitty trade, I will still have to pay off the card where I transferred the balance to, which could put me in a shitty spot.\\n\\nBut, I have a back up plan. Essentially, I will repeat the same process and transfer the remaining amount to another credit card I have. Rinse and repeat, and a 3% fee is all it takes, which is just added to the balance transfer amount. (Some cards charge more than a 3% balance transfer fee, so I wouldn’t use those)\\n\\nI am still in some open crypto positions, but mostly it’s just my profit. Currently waiting for a good dip to put more money in. If no big dip occurs by end of the year, I will just ride what I have currently invested in crypto, and also do stock trading as well.\\n\\nI think this strategy will work best during the beginning of the 3rd year, following the 4 year cycle. I plan to exit with the initial $8,250 amount by the end of this year or in January. I know altcoin season really kicks off during the 4th year of the cycle, but I have to secure my profits, just in case. With some of the profits I have made, that can remain locked in until I decide.\\n\\nHas anyone else done something similar to this?\\n',\n",
       " \"I was wondering what's the easiest way to buy while being underaged because I really want to get into this.\",\n",
       " 'I\\'m still new to all of this, but I was just sitting here watching a couple things and watching SOL on Coinbase, which is showing $2.38, but crypto(dot)com is showing $2.42, both are timestamped live, but a few cents off  \\nis it an app thing? or are they adding on a \"fee\" or something else? ',\n",
       " 'If I invest 100 dollars into a certain crypto-currency, which one should I invest in to see maximum results?',\n",
       " 'Investing on solana, with terrible luck. That sucks. When i buy, there appears a incredible bearish trend, when i sell, the opposite. Stop loss does not work simply because every prediction i am doing is wrong. Not only wrong, but i am able to somehow get the opposite exactly when i make a movement. \\n\\nI am not making FOMO strategies (i hope). I draw resistances and supports, making fibonacci analysis and seeing candlestick patterns. But i am statarting getting tired. Even if i have stop loss, i lose money for bad trades, commisions just because the trend is against me lol.\\n\\nI earned a good bunch of money yesterday. And now i lost it (almost completely). Suggestions?',\n",
       " 'I’m new to crypto and I’ve just invested around 650 dollars\\n200 into Shiba Inu\\n100 into solana \\n200 into polka dot \\n150 into optimism \\nAre these good selections and am I better off putting more money into less tokens or spreading it out among a few any helpful suggestions are greatly appreciated thanks ',\n",
       " 'I’m trying to understand why everyone is jumping on the crypto bandwagon. Most think this will be a great opportunity to become rich in a short period of time. Well people, guess what? This bandwagon is filled with scams. They reel you in with a few carrots, and wham, your dead meat. You’re now living off food stamps. Just leave the crypto trading to the hustlers. ',\n",
       " 'Memecoins are known to be scams and rug pulls. I\\'m new to trading memecoins but have done a little research and found out only to invest if the liquidity to MC ratio is good. If the liquidity is there, is it possible to cash out your \"$800k\" memecoin value. I know that price impact and slippage is a thing etc. but is there any world where it is possible? And how can you do it? I want to be prepared if any meme coins pump like crazy and I have one of those huge numbers being displayed in my wallet lmao. \\n\\nBasically, is it actually possible to take your \"$800k\" from memecoin to USD or SOL or BTC etc. And if it\\'s not/its very hard to, how can one maximise the amount of money they can receive form the \"$800k\"??',\n",
       " 'Read this article, and I\\'m curious: has TON truly made this kind of impact on the gaming industry? What do you think guys?\\n\\n\"Crypto games have never been a part of\\xa0the gaming industry. They also did not resonate with ardent crypto enthusiasts.\\n\\n  \\nThe popularity of even the most famous GameFi projects faded, as a rule, in a fairly short period of time. Their speculative potential quickly got boring, and the quality of the gameplay could not compete with\\xa0“traditional” games.\\n\\nBut now, things seem to be changing, as recent crypto games have attracted the attention of the community, and blockchain technology has once again come to the attention of gaming giants.\\n\\n  \\nCrypto games managed to regain the interest of the community thanks to\\xa0The Open Network (TON), a network that managed to turn the very idea of decentralized products upside down. It not only offered a simplified platform for their development, but also provided access to one of the\\xa0largest messengers in the world, Telegram.\"\\n\\n[The source](https://uaspectr.com/en/2024/11/18/how-ton-has-changed-the-role-of-crypto-games/)  \\n',\n",
       " 'Seriously question here , I am not new to this space but not super informed on stuff that determines maybe what I’m about ask…. With us so early in this bull run (are we really?) and seeing coins like XLM XRP, Hedera , CRO, and so many more alts already up 80-130% for this MONTH only . How can we still expect to see another 100% + increase from where we are Now ? \\n\\nMaybe for a a few coins but is it really realistic to imagine so many more coins going up yet another 100+ % and on to even higher ATH’s within a month or three months \\n\\nBasically how much of all of what people are saying is hopium and not much factual and then we wake up and see the markets down 30-60% on all coins . Of course I would say that’s a great time to get in if you haven’t already / buy more. Just curious everyone’s thoughts as I’m contemplating how much more to buy into certain coins at this moment in time ',\n",
       " 'So I recently rediscovered my Trust Wallet from a couple years back when I was playing with a couple cryptos that you had to convert eth, to by certain coins via uniswap etc... forgot that it was converted to a binance pegged Eth... I have been out of the loop so I got my Ethereum address from my CB app (The exchange), and I selected sending it on the Ethereum network (What could go wrong?)... anyway, I sent 146$ without a test send, and now the coinage is not on my wallet, or exchange, but says completed.\\n\\nI read into a couple similar threads about swapping Eth in a similar way, and there was a resolution on metamask... really hoping that is the case for my scenario.\\n\\nAny insight or instructions about what my method is to recover these funds would be greatly appreciated.',\n",
       " 'So i have invested around 3000$ on some of the 5 altcoins & 1000$ on 4 memecoin \\nSo if everything goes right and hope it will do \\nMy dreamt return should be around 40k$ and they i will sell all the things and i want to invest all the money again on Bitcoin at the right time and hold it forever.\\n\\nIs that a good thinking?\\nLet me know your opinion ',\n",
       " 'So overall I am fully bullish on bitcoin and crypto as a whole. (Not a bear don’t come at me bro)\\n\\nYet this type of mania and extreme greed index from my experience always results in maybe a 15-30% drop in price > consolidation > lift off above ATH and an unstoppable bullrun.\\n\\nI trade futures on BTC I thought there may be a slight dip after election before takeoff (buy the rumour sell the news) and based on the chart at the time showing lower lows. I was wrong of course and we went straight to 90k.\\n\\nAt this current trading level I definitely cannot long or short unless I wanna day-trade which I do not.\\n\\nWhat’s everyone’s opinion?\\n\\nI just think there must be a dip before 100k & I’m looking for a decent price to get in on the action before then\\n\\n(Don’t go bitcoin bros on me I am not the enemy) 😂😂😂\\n\\n',\n",
       " 'Sorry, I\\'m sure this has been asked before but i couldn\\'t find a good thread.   \\n  \\nHow reliable is the F&G for buying and selling? I\\'ve always been a hodler, but some less experienced friends (I\\'m amateur at investing as hell, but them even more so) sold at or close to the right time, whilst i held. F&G is high as ever on greed. I was \"predicting\" (guessing) 120-130k (based on very little other than lots of opinions online and crypto news), before a drop (early 2025), followed by a bigger bull run in third to fourth quarter of 2025.\\n\\na - Opinions?  \\nb - You guys selling any / much bags ready to take advantage of potential dips.\\n\\n\\\\*I\\'m playing down my research and iwht my nfo opinions are based on, as i think thats best when asking for advice. But humbly, i\\'m probably not far wrong from what I\\'ve spelt out if I\\'m honest with myself.\\n\\nI appreciate any input either way. ',\n",
       " 'This post contains content not supported on old Reddit. [Click here to view the full post](https://sh.reddit.com/r/CryptoMarkets/comments/1gvnuvo)',\n",
       " 'What if...  the new institutional and government capital piling into bitcoin with a buy and hold ends up affecting the general economy, the stock market, and alt season?',\n",
       " 'With rising tensions between the US and Russia, I can’t help but wonder: what happens to our crypto if a nuclear war cuts off internet?\\n\\nBtw, I am in Europe..\\n\\nCurious to hear your thoughts.'}"
      ]
     },
     "execution_count": 7,
     "metadata": {},
     "output_type": "execute_result"
    }
   ],
   "source": [
    "set(cont)"
   ]
  },
  {
   "cell_type": "code",
   "execution_count": 8,
   "metadata": {},
   "outputs": [],
   "source": [
    "subm = posts[0]"
   ]
  },
  {
   "cell_type": "code",
   "execution_count": 9,
   "metadata": {},
   "outputs": [
    {
     "data": {
      "text/plain": [
       "'/r/CryptoMarkets/comments/1gw2vi0/coinbase_global_inc_coin_stock_analysis_as_of/'"
      ]
     },
     "execution_count": 9,
     "metadata": {},
     "output_type": "execute_result"
    }
   ],
   "source": [
    "subm.permalink"
   ]
  },
  {
   "cell_type": "code",
   "execution_count": 10,
   "metadata": {},
   "outputs": [
    {
     "data": {
      "text/plain": [
       "{'BTC': [\"Options on BlackRock's Bitcoin ETF Will Launch Tuesday - Decrypt\",\n",
       "  'I just put 100€ into BTC and wondering if IS should deversify with another 100-200€ I will put soon',\n",
       "  'Debut of Bitcoin ETF Options Is Latest Boost for Crypto From US',\n",
       "  'What remains of Bitcoin as a Revolution freeing us from the Fiat System?',\n",
       "  'Stronghold Finally Agreed to Pay $4.75M And 25 Bitcoins to Investors Over 2021 IPO Scandal',\n",
       "  'Bitcoin ',\n",
       "  'Bitcoin and Ethereum ETFs Add Billions, Breaking Record for Crypto Products - Decrypt',\n",
       "  'Bitcoin has smashed records. Should you invest? | CNN Business'],\n",
       " 'ETH': ['Bitcoin and Ethereum ETFs Add Billions, Breaking Record for Crypto Products - Decrypt',\n",
       "  'BNB Eth sent via Ethereum network (Trust ----> CB)',\n",
       "  '10 eth folio diversification'],\n",
       " 'USDT': [],\n",
       " 'SOL': [],\n",
       " 'BNB': ['BNB Eth sent via Ethereum network (Trust ----> CB)'],\n",
       " 'XRP': ['Ripple (XRP) Explosive Price Surge Explained'],\n",
       " 'DOGE': [],\n",
       " 'USDC': [],\n",
       " 'ADA': [],\n",
       " 'TRX': ['Stronghold Finally Agreed to Pay $4.75M And 25 Bitcoins to Investors Over 2021 IPO Scandal']}"
      ]
     },
     "execution_count": 10,
     "metadata": {},
     "output_type": "execute_result"
    }
   ],
   "source": [
    "sorted = sesh.get_sorted_contents(posts)\n",
    "sorted"
   ]
  },
  {
   "cell_type": "code",
   "execution_count": 11,
   "metadata": {},
   "outputs": [
    {
     "name": "stdout",
     "output_type": "stream",
     "text": [
      "Sentiment for 'Coinbase Global Inc. (COIN) Stock Analysis as of November 20, 2024':\n",
      "{'neg': 0.0, 'neu': 1.0, 'pos': 0.0, 'compound': 0.0}\n",
      "\n",
      "Title: Coinbase Global Inc. (COIN) Stock Analysis as of November 20, 2024\n",
      "Title sentiment: {'neg': 0.0, 'neu': 1.0, 'pos': 0.0, 'compound': 0.0}\n",
      "Content sentiment: {'neg': 0.026, 'neu': 0.801, 'pos': 0.173, 'compound': 0.9942}\n",
      "\n",
      "Title: Can Treasury-linked stablecoins bring stability to DeFi?\n",
      "Title sentiment: {'neg': 0.0, 'neu': 1.0, 'pos': 0.0, 'compound': 0.0}\n",
      "\n",
      "Title: Which crypto should I invest 100 dollars on?\n",
      "Title sentiment: {'neg': 0.0, 'neu': 1.0, 'pos': 0.0, 'compound': 0.0}\n",
      "Content sentiment: {'neg': 0.0, 'neu': 0.877, 'pos': 0.123, 'compound': 0.2732}\n"
     ]
    }
   ],
   "source": [
    "sentiment = sesh.get_sentiment(posts[0].title)\n",
    "print(f\"Sentiment for '{posts[0].title}':\")\n",
    "print(sentiment)\n",
    "\n",
    "analysis = sesh.analyze_posts_sentiment(posts)\n",
    "for post in analysis[:3]:  # first 3 posts\n",
    "    print(f\"\\nTitle: {post['title']}\")\n",
    "    print(f\"Title sentiment: {post['title_sentiment']}\")\n",
    "    if 'content_sentiment' in post:\n",
    "        print(f\"Content sentiment: {post['content_sentiment']}\")"
   ]
  }
 ],
 "metadata": {
  "kernelspec": {
   "display_name": "Python 3",
   "language": "python",
   "name": "python3"
  },
  "language_info": {
   "codemirror_mode": {
    "name": "ipython",
    "version": 3
   },
   "file_extension": ".py",
   "mimetype": "text/x-python",
   "name": "python",
   "nbconvert_exporter": "python",
   "pygments_lexer": "ipython3",
   "version": "3.10.10"
  }
 },
 "nbformat": 4,
 "nbformat_minor": 2
}
