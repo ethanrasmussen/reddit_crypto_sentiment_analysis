{
 "cells": [
  {
   "cell_type": "code",
   "execution_count": 1,
   "metadata": {},
   "outputs": [
    {
     "name": "stdout",
     "output_type": "stream",
     "text": [
      "Requirement already satisfied: python-dotenv in c:\\users\\ethan\\appdata\\local\\programs\\python\\python311\\lib\\site-packages (1.0.1)Note: you may need to restart the kernel to use updated packages.\n",
      "\n"
     ]
    },
    {
     "name": "stderr",
     "output_type": "stream",
     "text": [
      "\n",
      "[notice] A new release of pip is available: 23.0.1 -> 24.3.1\n",
      "[notice] To update, run: python.exe -m pip install --upgrade pip\n"
     ]
    },
    {
     "name": "stdout",
     "output_type": "stream",
     "text": [
      "[Submission(id='ms96il'), Submission(id='n184f8'), Submission(id='nn3gnj'), Submission(id='nrwfze'), Submission(id='ncubti'), Submission(id='nqfqc9'), Submission(id='n7p6lg'), Submission(id='n8j6cp'), Submission(id='lgaiku'), Submission(id='mtbkvk')]\n"
     ]
    },
    {
     "data": {
      "text/plain": [
       "{'comment_limit': 2048,\n",
       " 'comment_sort': 'confidence',\n",
       " '_reddit': <praw.reddit.Reddit at 0x224d1a25890>,\n",
       " 'approved_at_utc': None,\n",
       " 'subreddit': Subreddit(display_name='CryptoMarkets'),\n",
       " 'selftext': '',\n",
       " 'author_fullname': 't2_cghefnv',\n",
       " 'saved': False,\n",
       " 'mod_reason_title': None,\n",
       " 'gilded': 0,\n",
       " 'clicked': False,\n",
       " 'title': 'When you’ve spent the past 4 years carefully researching and building a solid crypto portfolio and then all your friends quintuple their money in 1 day off a DOGE meme on the Robinhood app',\n",
       " 'link_flair_richtext': [{'e': 'text', 't': 'Tool'}],\n",
       " 'subreddit_name_prefixed': 'r/CryptoMarkets',\n",
       " 'hidden': False,\n",
       " 'pwls': 6,\n",
       " 'link_flair_css_class': 'tool',\n",
       " 'downs': 0,\n",
       " 'thumbnail_height': 70,\n",
       " 'top_awarded_type': None,\n",
       " 'hide_score': False,\n",
       " 'name': 't3_ms96il',\n",
       " 'quarantine': False,\n",
       " 'link_flair_text_color': None,\n",
       " 'upvote_ratio': 0.98,\n",
       " 'author_flair_background_color': None,\n",
       " 'subreddit_type': 'public',\n",
       " 'ups': 4810,\n",
       " 'total_awards_received': 0,\n",
       " 'media_embed': {},\n",
       " 'thumbnail_width': 140,\n",
       " 'author_flair_template_id': '369b4874-6c3d-11e9-9795-0af0e0456bf4',\n",
       " 'is_original_content': False,\n",
       " 'user_reports': [],\n",
       " 'secure_media': None,\n",
       " 'is_reddit_media_domain': False,\n",
       " 'is_meta': False,\n",
       " 'category': None,\n",
       " 'secure_media_embed': {},\n",
       " 'link_flair_text': 'Tool',\n",
       " 'can_mod_post': False,\n",
       " 'score': 4810,\n",
       " 'approved_by': None,\n",
       " 'is_created_from_ads_ui': False,\n",
       " 'author_premium': False,\n",
       " 'thumbnail': 'https://b.thumbs.redditmedia.com/Ic9YqZ9_hfKkv1WYdbXoMNI3F42w36lnb-jhksIjU5A.jpg',\n",
       " 'edited': False,\n",
       " 'author_flair_css_class': 'noflair',\n",
       " 'author_flair_richtext': [],\n",
       " 'gildings': {},\n",
       " 'post_hint': 'image',\n",
       " 'content_categories': None,\n",
       " 'is_self': False,\n",
       " 'mod_note': None,\n",
       " 'created': 1618597169.0,\n",
       " 'link_flair_type': 'richtext',\n",
       " 'wls': 6,\n",
       " 'removed_by_category': None,\n",
       " 'banned_by': None,\n",
       " 'author_flair_type': 'text',\n",
       " 'domain': 'i.imgur.com',\n",
       " 'allow_live_comments': True,\n",
       " 'selftext_html': None,\n",
       " 'likes': None,\n",
       " 'suggested_sort': None,\n",
       " 'banned_at_utc': None,\n",
       " 'url_overridden_by_dest': 'https://i.imgur.com/g8Tzti4.jpg',\n",
       " 'view_count': None,\n",
       " 'archived': True,\n",
       " 'no_follow': False,\n",
       " 'is_crosspostable': False,\n",
       " 'pinned': False,\n",
       " 'over_18': False,\n",
       " 'preview': {'images': [{'source': {'url': 'https://external-preview.redd.it/ESPM-tTuK3werLgfWG_wBsw_trUSDNU4bI5s2jVRAgQ.png?auto=webp&s=5516eaced3d9aa38c5fb842ca40ea36a3c164eed',\n",
       "     'width': 161,\n",
       "     'height': 81},\n",
       "    'resolutions': [{'url': 'https://external-preview.redd.it/ESPM-tTuK3werLgfWG_wBsw_trUSDNU4bI5s2jVRAgQ.png?width=108&crop=smart&auto=webp&s=6bdf4d9c8ec6b3100f803c1cf0848f49a5aee344',\n",
       "      'width': 108,\n",
       "      'height': 54}],\n",
       "    'variants': {},\n",
       "    'id': 'm1k29ABhRuTh6QJbR0wChjwLVhQTKtQNtLkloQ6L-7k'}],\n",
       "  'enabled': True},\n",
       " 'all_awardings': [],\n",
       " 'awarders': [],\n",
       " 'media_only': False,\n",
       " 'can_gild': False,\n",
       " 'spoiler': False,\n",
       " 'locked': False,\n",
       " 'author_flair_text': '',\n",
       " 'treatment_tags': [],\n",
       " 'visited': False,\n",
       " 'removed_by': None,\n",
       " 'num_reports': None,\n",
       " 'distinguished': None,\n",
       " 'subreddit_id': 't5_2z2wm',\n",
       " 'author_is_blocked': False,\n",
       " 'mod_reason_by': None,\n",
       " 'removal_reason': None,\n",
       " 'link_flair_background_color': None,\n",
       " 'id': 'ms96il',\n",
       " 'is_robot_indexable': True,\n",
       " 'report_reasons': None,\n",
       " 'author': Redditor(name='PorzingisDingus'),\n",
       " 'discussion_type': None,\n",
       " 'num_comments': 363,\n",
       " 'send_replies': True,\n",
       " 'contest_mode': False,\n",
       " 'mod_reports': [],\n",
       " 'author_patreon_flair': False,\n",
       " 'author_flair_text_color': 'dark',\n",
       " 'permalink': '/r/CryptoMarkets/comments/ms96il/when_youve_spent_the_past_4_years_carefully/',\n",
       " 'stickied': False,\n",
       " 'url': 'https://i.imgur.com/g8Tzti4.jpg',\n",
       " 'subreddit_subscribers': 1693181,\n",
       " 'created_utc': 1618597169.0,\n",
       " 'num_crossposts': 1,\n",
       " 'media': None,\n",
       " 'is_video': False,\n",
       " '_fetched': False,\n",
       " '_additional_fetch_params': {},\n",
       " '_comments_by_id': {}}"
      ]
     },
     "execution_count": 1,
     "metadata": {},
     "output_type": "execute_result"
    }
   ],
   "source": [
    "import sys, os\n",
    "sys.path.insert(1, '../src/')\n",
    "# from ..src.reddit_grab import *\n",
    "%pip install python-dotenv\n",
    "from reddit_grab import *\n",
    "\n",
    "sesh = RedditSession()\n",
    "\n",
    "print(sesh.get_posts_from_subreddit(\"CryptoMarkets\"))\n",
    "\n",
    "sesh.get_posts_from_subreddit(\"CryptoMarkets\")[0].__dict__"
   ]
  },
  {
   "cell_type": "code",
   "execution_count": 2,
   "metadata": {},
   "outputs": [
    {
     "data": {
      "text/plain": [
       "['thoughts on these alts: sythetix, ren, cartesi',\n",
       " 'Uruguay passes law regulating crypto, could set precedent for rest of Latin America ',\n",
       " 'Have shitcoins I desperately need to get rid of']"
      ]
     },
     "execution_count": 2,
     "metadata": {},
     "output_type": "execute_result"
    }
   ],
   "source": [
    "posts = sesh.get_posts_from_subreddit(\"CryptoMarkets\", limit=50, sort_type=\"new\")\n",
    "[post.title for post in posts][:3]"
   ]
  },
  {
   "cell_type": "code",
   "execution_count": 3,
   "metadata": {},
   "outputs": [
    {
     "data": {
      "text/plain": [
       "['thoughts on these alts: sythetix, ren, cartesi',\n",
       " 'Uruguay passes law regulating crypto, could set precedent for rest of Latin America ',\n",
       " 'Have shitcoins I desperately need to get rid of',\n",
       " 'Asking for help ',\n",
       " 'Spath meme token solana',\n",
       " 'Grow a bag first, then invest',\n",
       " 'When do you decide to cut loses and rebalance your portfolio ???',\n",
       " 'Is this type of coin chart a scam?',\n",
       " 'ADA VS XRP',\n",
       " 'Where are we going with the crypto? Which smart contract technology will we see in the future?',\n",
       " 'Buyer Beware! Uniswap scam alert!',\n",
       " 'Unable to take profits',\n",
       " 'Lunc, is the legend raising again?',\n",
       " 'Daily Discussion Megathread - November 16, 2024 (GMT+0)',\n",
       " 'long time bitcoiners',\n",
       " 'Dynamic DCA Exit Strategy + Risk Metric Tier List\\n',\n",
       " \"What's everybody's take on XRP?\",\n",
       " 'BTC pump reach possible $100000?',\n",
       " 'Xrp',\n",
       " 'Scalping in Crypto - Tips and Tricks?',\n",
       " 'How can I buy cryptocurrencies?',\n",
       " 'Ethereum Price Prediction: ETH Eyes $4,000 with Bullish Momentum',\n",
       " 'Does anyone here participate in staking/restaking protocols?',\n",
       " 'What app to use',\n",
       " '$MSTR announced a raise of $42B to buy more Bitcoin, which is equivalent as buying at $85k/BTC every Bitcoin mined for the next 3 years!',\n",
       " 'I own every single coins listed on Kraken',\n",
       " 'New coin insight',\n",
       " 'Which is best DEX token price data api / provider web scraping, dexscreener, birdeye, photon web scraping, other ? Which best for what',\n",
       " 'Does anyone think ERGO has potential?',\n",
       " 'I don’t buy coins, I buy Cults. Question is - what’s the best cult community?',\n",
       " 'You can outperform 99% of market participants',\n",
       " 'What’s the Best Crypto Platform to Trade On?',\n",
       " 'LINK, HBAR, ALGO, ADA - Please rank!',\n",
       " 'Looking for a contact of Pasquale dibilio, NY, Building engineer, WTC',\n",
       " 'Genuine Ranking Question - LINK, HBAR, ALGO, ADA',\n",
       " 'Advice for a Crypto Dinosaur',\n",
       " 'Should I put my bitcoin into alt coins?',\n",
       " 'QANplatform Joins Linux Foundation and its Post-Quantum Cryptography Alliance',\n",
       " 'Thoughts on my potential portfolio; SUI, KAS, Render, Bonk, Popcat ',\n",
       " 'Where to find non kyc platforms?',\n",
       " 'Throw me some ideas',\n",
       " 'Bitcoin this cycle ',\n",
       " 'What’s your opinion on ACT and pnut?',\n",
       " 'Kraken hidden fees',\n",
       " '$RON Ronin Network thoughts?',\n",
       " 'Charles Hoskinson (ADA) SpaceX Deal? [Rumor]',\n",
       " 'Tell me your three bets and why',\n",
       " 'French Vegan Fast-Food Chain Furahaa Group Enters Tokenization Market',\n",
       " 'Best Memecoin ATM',\n",
       " 'Market sentiment ']"
      ]
     },
     "execution_count": 3,
     "metadata": {},
     "output_type": "execute_result"
    }
   ],
   "source": [
    "sesh.get_post_titles(posts)"
   ]
  },
  {
   "cell_type": "code",
   "execution_count": 4,
   "metadata": {},
   "outputs": [
    {
     "data": {
      "text/plain": [
       "['/r/CryptoMarkets/comments/1gs6u6g/thoughts_on_these_alts_sythetix_ren_cartesi/',\n",
       " '/r/CryptoMarkets/comments/1gsrlav/uruguay_passes_law_regulating_crypto_could_set/',\n",
       " '/r/CryptoMarkets/comments/1gs9wa6/have_shitcoins_i_desperately_need_to_get_rid_of/',\n",
       " '/r/CryptoMarkets/comments/1gsqag2/asking_for_help/',\n",
       " '/r/CryptoMarkets/comments/1gspg65/spath_meme_token_solana/',\n",
       " '/r/CryptoMarkets/comments/1gsp7f2/grow_a_bag_first_then_invest/',\n",
       " '/r/CryptoMarkets/comments/1gsowih/when_do_you_decide_to_cut_loses_and_rebalance/',\n",
       " '/r/CryptoMarkets/comments/1gsoq31/is_this_type_of_coin_chart_a_scam/',\n",
       " '/r/CryptoMarkets/comments/1gsndb0/ada_vs_xrp/',\n",
       " '/r/CryptoMarkets/comments/1gsmjkp/where_are_we_going_with_the_crypto_which_smart/',\n",
       " '/r/CryptoMarkets/comments/1gs30lt/buyer_beware_uniswap_scam_alert/',\n",
       " '/r/CryptoMarkets/comments/1gs85ue/unable_to_take_profits/',\n",
       " '/r/CryptoMarkets/comments/1gsmipd/lunc_is_the_legend_raising_again/',\n",
       " '/r/CryptoMarkets/comments/1gslten/daily_discussion_megathread_november_16_2024_gmt0/',\n",
       " '/r/CryptoMarkets/comments/1gslpl4/long_time_bitcoiners/',\n",
       " '/r/CryptoMarkets/comments/1gsl9im/dynamic_dca_exit_strategy_risk_metric_tier_list/',\n",
       " '/r/CryptoMarkets/comments/1gskt1y/whats_everybodys_take_on_xrp/',\n",
       " '/r/CryptoMarkets/comments/1gskq8z/btc_pump_reach_possible_100000/',\n",
       " '/r/CryptoMarkets/comments/1gskkgf/xrp/',\n",
       " '/r/CryptoMarkets/comments/1gsjh6x/scalping_in_crypto_tips_and_tricks/',\n",
       " '/r/CryptoMarkets/comments/1gsh9sa/how_can_i_buy_cryptocurrencies/',\n",
       " '/r/CryptoMarkets/comments/1gsglho/ethereum_price_prediction_eth_eyes_4000_with/',\n",
       " '/r/CryptoMarkets/comments/1gsfbkx/does_anyone_here_participate_in_stakingrestaking/',\n",
       " '/r/CryptoMarkets/comments/1gsekq3/what_app_to_use/',\n",
       " '/r/CryptoMarkets/comments/1gscstd/mstr_announced_a_raise_of_42b_to_buy_more_bitcoin/',\n",
       " '/r/CryptoMarkets/comments/1gsdboa/i_own_every_single_coins_listed_on_kraken/',\n",
       " '/r/CryptoMarkets/comments/1gsc3g6/new_coin_insight/',\n",
       " '/r/CryptoMarkets/comments/1gsbmal/which_is_best_dex_token_price_data_api_provider/',\n",
       " '/r/CryptoMarkets/comments/1gsbm9c/does_anyone_think_ergo_has_potential/',\n",
       " '/r/CryptoMarkets/comments/1gsbfjx/i_dont_buy_coins_i_buy_cults_question_is_whats/',\n",
       " '/r/CryptoMarkets/comments/1gsax6l/you_can_outperform_99_of_market_participants/',\n",
       " '/r/CryptoMarkets/comments/1gsauc7/whats_the_best_crypto_platform_to_trade_on/',\n",
       " '/r/CryptoMarkets/comments/1gs8gos/link_hbar_algo_ada_please_rank/',\n",
       " '/r/CryptoMarkets/comments/1gs8emb/looking_for_a_contact_of_pasquale_dibilio_ny/',\n",
       " '/r/CryptoMarkets/comments/1gs8csd/genuine_ranking_question_link_hbar_algo_ada/',\n",
       " '/r/CryptoMarkets/comments/1gs82d9/advice_for_a_crypto_dinosaur/',\n",
       " '/r/CryptoMarkets/comments/1gs7k37/should_i_put_my_bitcoin_into_alt_coins/',\n",
       " '/r/CryptoMarkets/comments/1gs6jc8/qanplatform_joins_linux_foundation_and_its/',\n",
       " '/r/CryptoMarkets/comments/1gs4c9j/thoughts_on_my_potential_portfolio_sui_kas_render/',\n",
       " '/r/CryptoMarkets/comments/1gs4bz9/where_to_find_non_kyc_platforms/',\n",
       " '/r/CryptoMarkets/comments/1gs46qo/throw_me_some_ideas/',\n",
       " '/r/CryptoMarkets/comments/1gs3ai1/bitcoin_this_cycle/',\n",
       " '/r/CryptoMarkets/comments/1gs2ys9/whats_your_opinion_on_act_and_pnut/',\n",
       " '/r/CryptoMarkets/comments/1gs22on/kraken_hidden_fees/',\n",
       " '/r/CryptoMarkets/comments/1grwauw/ron_ronin_network_thoughts/',\n",
       " '/r/CryptoMarkets/comments/1gs07s0/charles_hoskinson_ada_spacex_deal_rumor/',\n",
       " '/r/CryptoMarkets/comments/1grzmlx/tell_me_your_three_bets_and_why/',\n",
       " '/r/CryptoMarkets/comments/1grzl24/french_vegan_fastfood_chain_furahaa_group_enters/',\n",
       " '/r/CryptoMarkets/comments/1grzjne/best_memecoin_atm/',\n",
       " '/r/CryptoMarkets/comments/1grxkep/market_sentiment/']"
      ]
     },
     "execution_count": 4,
     "metadata": {},
     "output_type": "execute_result"
    }
   ],
   "source": [
    "sesh.get_post_urls(posts)"
   ]
  },
  {
   "cell_type": "code",
   "execution_count": 5,
   "metadata": {},
   "outputs": [],
   "source": [
    "cont = sesh.get_post_contents(posts)"
   ]
  },
  {
   "cell_type": "code",
   "execution_count": 6,
   "metadata": {},
   "outputs": [
    {
     "data": {
      "text/plain": [
       "\"i haven't bought them yet, any advice?\\nI already have a pretty solid portfolio for this bullrun but i'm looking for slightly more risky options just for fun. thanks! 🙏 \\n(actually not ren, just sythetix and/or cartesi)\""
      ]
     },
     "execution_count": 6,
     "metadata": {},
     "output_type": "execute_result"
    }
   ],
   "source": [
    "cont[0]"
   ]
  },
  {
   "cell_type": "code",
   "execution_count": 7,
   "metadata": {},
   "outputs": [
    {
     "data": {
      "text/plain": [
       "{'',\n",
       " '**Curious information for readers:**\\n\\n◐ 100% of trades using the \"Holding + Averaging\" strategy on Bitcoin over the past couple of years are profitable\\n\\n◐ Annual returns range from tens to 100%+ without using leverage\\n\\n◐ The risk of ruin is 0%\\n\\nThus, using this simple approach, you can outperform the vast majority of market participants and, with high probability, significantly grow your capital by traditional standards.\\n\\n**On the other hand, a person who has been engaged in trading over the past couple of years:**\\n\\n◐ Has about a 99% chance of finding themselves among the 99%+ who have lost money trading and, moreover, have performed worse than simply holding BTC\\n\\n◐ Is likely facing psycho-emotional and physical problems caused by constant stress\\n\\n◐ Regrets the time wasted\\n\\n**What does it take to spend 1% of the time to outperform 99% of traders and significantly grow your capital?**\\n\\n◐ Understanding the fundamental principles of BTC’s long-term price growth: limited supply (21M) vs. infinite demand (fiat)\\n\\n◐ Understanding the key factors that will influence price formation in the coming months and years: purchasing all new supply by Michael Saylor ($42B over the next 2 years), daily inflows via ETFs amounting to hundreds of millions, and a high probability of forming strategic reserves at the level of countries and individual US states, corporations\\n\\n◐ On the other hand: daily mining of 450 Bitcoins (about $40M), not all of which end up on the market. Understanding the relationship between this supply and the demand described above\\n\\n◐ Understanding the \"Holding\" strategy: the asset has fundamental value that grows over time, so it is never sold during drawdowns\\n\\n◐ Understanding the \"Averaging\" strategy:  \\na) Buying the asset at regular intervals averages the entry point and smooths out variance  \\nb) Buying more during drawdowns yields better EV (Expected Value) the deeper the drawdown\\n\\nGood luck! (No, **with a sound approach, you won’t need luck**.)',\n",
       " '1. \"The safe bet\"\\n2. \"The \\'Why does it have such a low market cap?\\'\"\\n3. \"The meme\"\\n\\nMy three coins/tokens are:\\n\\n1. **ADA** – Because I believe the tech and the distribution of holders are significantly better than SOL. \\n2. **BXX** – They have some impressive partnerships, including one with Metamask. The token itself doesn’t have any particularly unique features, but it should have a higher market cap. \\n3. **Comet (Ergo blockchain)** – Just a bet on a blockchain that hasn’t been hyped yet.',\n",
       " 'A lot of people in my discord have been talking about a coin called OTECS? Anyone heard of it? Got any details? ',\n",
       " \"A year ago, i divided my portfolio into 75% BTC / 25% Alts.  \\nThe remaining 25% got divided into \\\\~400+ coins.\\n\\nI figured, how can i lose if i buy the whole market?  \\nMy fellow degens have been laughing at me for it ever since and ask me how the hedgefund is going.\\n\\nHere's the kicker, this strategy performed only slightly better than Bitcoin did (68% BTC / 32% Alts).  \\nThat being said, this is not my first rodeo, i expect alts to blow BTC out of the water once ETH/BTC moons.  \\nWhen it does, i will be converting all my BTC into ETH for another 2xish.  \\nThe alts will all get sold along with ETH.\\n\\nWhat's your strategy for this bullrun?\",\n",
       " \"As BTC is up 20% in the past week, we can expect a correction soon right. I have coins which are 3-4x from my initial investment but find it hard to take profits as I expect to hit a moonshot which is unrealistic of course. Whenever I sell some coins at a bit profit, they shoot up high immediately after. Latest example is bonk😆. I have sold a bit and taken my initial investment off some coins but that's it \",\n",
       " \"Cardano is projected to do well and if that's the case then ERGO would probably follow in its footsteps right? I'm thinking of getting a small bag just to see how well it does. Is anyone holding any?\",\n",
       " \"Fake Token Adress (BDAG): 0x21a4d9a037a06b0dfe7d6067edbe10b64795dee6\\n\\nThe above address is the contract address for fake tokens being labeled as BDAG on Uniswap. An initial scan of the etherscan provided through the Uniswap DeX will provide no evidence of the scam to the buyer other than the dialog which states the tokens are not commonly sold on DeX which incidentally also will appear for tokens of like type which are being reported to be legitimate in nature at this time...\\n\\nBe on alert for fake tokens being sold also as RXS which is also a honeypot, or ponzi-scheme type of activity...\\n\\n  \\nAlso, Please be on alert if you have an interest in purchasing the BlockDAG pre-sale... There is a user operating on Telegram group which is being labled as BlockDAG support named Shaq, who is providing a phishing link to unsuspecting potential buyers of BlockDAG... The Phish here is that the BlockDAG connect to Uniswap wallet feature has a bug, that will state insufficient funds even though that is not the case, and then when the user goes in search of support to help with this problem, they Phish the user who thinks that everything is official and legitimate... Moments after co-oiperating with Shaq you will find that your wallet will be drained of everything...\\n\\nThis is the address of the malicious wallet:  \\n0x619b27Ef891904B3821eB703D7D49Fa7C42B2D2C\\n\\nIf one looks, they will find the wallet may contain also fake tokens that this Phish scammer has leeched from the public as well as real tokens.... I am reporting this activity, and I hope that the users of these malicious addresses will be stopped without delay... If anyone knows anything about the scams that are taking place and who may be behind this activity I am urging any member of the public to please turn in any information you have to the highest level of authority that you can find access to... I can tell you that what I found as a first time user of Uniswap DEX had chilled me to the bone, and I can't possibly imagine it that people are going to navigate this type of system without a problem without special experience and help... \",\n",
       " 'First got into Crypto back in 2018 buying some XRP, then got heavily into ETH.\\n\\nCurrently sit on ETH, BTC, SOL, XRP, LINK and a few other alts like Dot, FTM, XLM though some of them are 90% down from when I bought them. \\n\\nBeen sitting and HODLing for years but have recently got interested in the opportunities in crypto to make passive income through staking/lending. \\n\\nWould love some advice from people more actively involved in the space on how I can make some passive income while continuing to hold these assets. ',\n",
       " 'Give me them cults and I’ll buy them. I believe this is one of best narratives for memecoins. Community is everything! \\n\\nAlso join free discord and share any ideas!\\n\\nGreat to see BTC at 90k 👀',\n",
       " 'Hello ther I’m new into the crypto space and I was wondering how can I buy cryptocurrencies for example of if I want to buy 50$ worth of bitcoin how can I do that?',\n",
       " 'Hey guys I want to know what everyone thinks about trx I feel like no one is talking about it yet it has a pretty good potential ',\n",
       " \"Hey, I'm looking for the faster source of chart data for\\n\\nSolana tokens\\nEthereum tokens\\nSui token\\n\\nAnd then basically all others\\n\\nWhen I will be trading, I want to be the first to know what price a token is at, what data sources do you recommend ? From fastest source that I can get my hands on easily, to maybe more advanced options ? So i have something to deploy soon perhaps.\\n\\nAlso photo  claims to be super fast, If I scrape photon, will that be better for solana than using dexscreener api ? And if yes what can be good equivalents for solana or sui ? And what api's do you know that allow for high rate limits and refreshes, I need to get data to sell when token reaches a certain price\\n\\nThanks in advance uf you know anythig that would really help and I appreciate it\",\n",
       " \"Hi all,  \\nGot a legacy in April, Started to buy, and boom, actually bought at ATH and hodling till now but still mostly negative.... \\n\\nI read everywhere to hodl , hodl, hodl...  but it seems to me I'm losing time actually.\\n\\nWhile I'm hodling a -40% BCH coin, others are pumping fast! ADA, XRP doubling during the last week, while I'm just... hodling....\\n\\nSo when do you decide to rebalance your portfolio ????\\n\\nor if you prefer, why hodling is better than surfing the trend ?\",\n",
       " 'Hi friends,\\n\\nI’ve been thinking about the future of crypto and wondering which technologies will shape this space in the coming years. What will dominate, and why? For example, will it be things like **DeFi (Decentralized Finance)**, or something else? Which crypto-related technologies might become part of our daily lives and actually make them better?\\n\\nIt would be great if you could share **trustworthy sources** (like videos or research papers) that discuss where the crypto industry is heading. I’m especially interested in learning about:\\n\\n* The technologies we’re using now in crypto.\\n* What new technologies might appear soon because there’s a demand for them.\\n\\nIf you know of any good YouTube videos or research papers on this, please share them. Your help is really appreciated! 😊',\n",
       " 'Hi guys, which do you consider to be the best memecoin to enter at the moment? Some of them are already too high in price, I guess.\\n\\nThanks in advance',\n",
       " 'I have 11k has in bitcoin but I’ve been thinking for the next few months it’ll probably be wiser to put this into alt coins, I’ve looked at BEAMX, RENDER, AVAX, ADA.\\n\\nI still know very little about crypto, and I’m only 18 and this is also all of my money, I put 8.3k into bitcoin when it was 67k and now I’m here.\\n\\n',\n",
       " 'I have 50% of my assets in XRP and 50% into ADA.\\n\\n[View Poll](https://www.reddit.com/poll/1gsndb0)',\n",
       " \"I just started using kraken and honestly I'm kind of pissed off. I was messing with Jeo Boden coin and noticed the following:\\n\\n1. The rate that they gave me is not the current rate. They just had it listed as worth 0.0076 and when I convert 1 tether they don't tell me at what price I'm getting it at. All they do is say how many JB I will get (deceiving) because when I dividing 1 tether by the amount I get a little over 0.0078. \\n\\n2. When I sell, they give me a worse rate than the current rate. So while I should have made over $500 on some quick trading, I LOST MONEY. What fucking BS is that???\\n\\nI switched from coinbase because supposedly fees were lower, but I get completely screwed on the rates they give me.\\n\\nIs this the same from Kraken Pro?\",\n",
       " 'I met a good person in a train from Pen station NY to Ronkonkoma. He got down at Hicksville. He was talk to a guy and educating him on XRP and other Alt coins  and how banks might use them. That’s quite an information. \\nI thought keeping in touch but couldn’t take his contact. \\n\\nPosting this just in case if he is in Reddit, this get to this. \\n\\nAppreciate your time brother. \\n',\n",
       " \"I saw a post from Leviathan News yesterday about MAX LRTs from the restaking protocol called YieldNest. Has anyone checked it out? Here's what they highlighted in their Medium article and seems really promising:\\n\\n* ''MAX LRTs merge DeFi’s best strategies into single, unified, high-powered assets, with L1 settlement as its backbone.''\\n* ''Launching first with ynETHx and a 12,5% APY & 6 x Seeds boost capped at 350 ETH \\\\~$1M USD.''\\n\\n* ''MAX LRTs drives continuous, compounding yields — empowering users to unlock DeFi’s full potential.''\\n\\nThey recently launched ynETHx and then soon ynBTCx, ynUSDx, and ynBNBx.\\n\\nI'm new to this restaking stuff and would love your thoughts. Thanks in advance!\",\n",
       " 'I see so many different apps being thrown round to use and so many not to use, all with different draw backs and positives ! Can I have some real recommendations please.. \\n\\nMuch appreciated ',\n",
       " 'I think that everyone saw the crazy value increase once they got listed on binance and probably other exchanges “not sure”. What are your opinion on the coins? Do you think they are just a pump and dump kinda deal?',\n",
       " \"I've been in crypto since April 2021 and so far over $20000 in losses, missed out on every pump and made minimal gains. I don't even know why I still try.\\n\\nNote: Misleading title because reddit kept removing my post.\",\n",
       " 'Imo,  Bitcoin is  going hard and consistent up to 150 k roughly . (154k is the 2.168 Fibonacci retracement)  I then see a pull back that scares people and makes them think cycle is over . I think this will happening anywhere between April and June. After a drop and some bleeding for a few weeks or a month and a half, I see a bounce back to new highs and a blow off top to 200k give or take 20k between September and October 2025 . The new bottom will then be 68k give or take 10k in September or October of 2026. \\nWhat are your thoughts and where do we differ ?',\n",
       " 'Its my birthday this month and was given about 1k to put into some crypto but want some ideas. I have about 100$ in xrp right now very little btc but want to place this 1k somewhere and let it sit. Throw me some ideas! ',\n",
       " 'I’m re-organizing some things and setting myself up for the remainder of the bull run between now and the parabolic top. I’m curious for input and opinion on this holding.\\n\\nIt would be about 25% split 5 ways ',\n",
       " 'My dad who against all good advice decided that he had to buy coins from god knows where or how. All I know is I have a bunch of Quantis sitting on Tradeogre and I need it gone. I don’t even know if I can get it off the exchange. It doesn’t seem like it’s active. I don’t care how I get rid of it, I just need it gone. Can anyone here help me out?',\n",
       " \"Not sure what to title this post, but it applies to all investment markets not just cryptocurrency.\\n\\nI have been investing since I was 18, and I am now 32. I made this mistake myself and I find that it is not often talked about online.\\xa0\\n\\nIn short: if you have a small bag (less than 50k) and you are looking to invest. IMO, don't.\\n\\nUse that money and build something. The return on building a small business, a product, a freelancing company, learning a skill, taking a class, etc. will always be a far better ROI.\\n\\nLet me explain with some numbers that were my own. At the age of 20, I had about $10,000 USD to invest. I researched and managed a return of 13%. This sounds good, but it was mostly luck. And even if it weren't it's still not enough.\\xa0\\n\\nLet's extrapolate and say that I do this every year for 5 years.\\xa0\\n10k * 1.13 = $11,300\\n$11,300 * 1.13 = $12,769\\n…\\nYear 5 yields a total of $18,424.35 In 5 years, I made $8,424.35\\n\\nThis is not a life changing amount of money for 5 years.\\xa0\\n\\nThe trade of 5 years for 8,400 is not enough.\\n\\nInstead, let's say I take that $10,000 and invest in myself.\\xa0\\n\\nI take a coding bootcamp for $5000, get a job paying $20,000 more than I had previously, and in 1 year, I am up $15,000. I pay my taxes, and I am still at $10,000. I had to work, but I now have a skill. Over the next 3 years, I get 3 raises. I had to work anyway. The profits from my 10,000 are not nearly enough.\\xa0\\n\\nIt's far better to work on a skill than to invest with small amounts.\\xa0\\n\\nHowever, instead let's say I have $100,000.\\xa0\\n\\nThis is quite different.\\xa0\\n\\nMy first year, I will make $13,000 in profits. Likely competitive with my annual raises at my coding job.\\xa0\\n\\nAfter 5 years, I will have made $84,000 in interest.\\xa0\\n\\nI could have even took 10k from that 100k to take more classes, invest in equipment, grow my skills, etc. and my returns will still be close to that.\\xa0\\nThe mistake I made was investing too soon. Go work really hard when you are young, invest in yourself, build. your skills, and grow a bag. Then invest when you have a chunk.\\n\\nAs a final note: if you do invest in risky crypto markets and manage to hit 100k early on, sell it all, and switch to a slower strategy. You will have just skipped 5+ years of early investing and you are set up to win. Don't mess it up by gambling it.\",\n",
       " 'On the 24h-chart lunc is 20% up. After a long sideward move it moves upwards. Is it because of the new whitepaper for the Ustc repeg or just a pump because the other coins pump as well?\\n\\nFor me lunc is like a lottery ticket that the lunc community and devs fix it.',\n",
       " 'Sounds interesting..what you guys think?',\n",
       " 'Take a look at this coin and there are a lot others like it:  \\n[https://www.tradingview.com/symbols/STCSAUSD/?exchange=CRYPTO](https://www.tradingview.com/symbols/STCSAUSD/?exchange=CRYPTO)\\n\\nI wonder how can such a chart exist, it looks too good to be true.',\n",
       " 'The biggest names in business are here. \\n\\nNvidia, Google,  IBM, AWS, Cisco, Meta\\n\\nProbably pretty smart for Qanplatform to be part of this.  One of maybe 20 members?  \\n\\nCrypto space fears quantum,  rest of the world planning and preparing. ',\n",
       " 'These big kyc platforms are really annoying they constantly freeze my funds and ask me to verify. Anyone else having this problem? Please suggest some non kyc platforms, I have found a few but want some more to try out ',\n",
       " 'This bull run has been very odd and mainly memes have been the centre of space \\nWith the previous bull run nft used to pump along with other protocols but this time it doesn’t seem that way \\nAny clue when we might see a shift to utility and anyway to spot the shift to position ourselves better',\n",
       " 'This post contains content not supported on old Reddit. [Click here to view the full post](https://sh.reddit.com/r/CryptoMarkets/comments/1gslten)',\n",
       " 'Wanting to gauge how most people would rank (best-worst) these cryptos (Chainlink, Hedera, Algorand, Cardano) in terms of best-performing in the mid-long term (2025-2030).\\nFeel free to add reasoning behind ranking.\\n\\nMuch love.',\n",
       " \"What do you forecast it to get to?  Thinking about investing a few hundred there before it's too late.\",\n",
       " \"What do you guys think about $RON and the Ronin Network? I've tried using it and its very smooth and has low transaction fees. It seems like its the best gaming L1 chain and I am thinking of investing in it. I heard they were hacked though for $600M. Will Gamefi and web3 gaming still makr a comeback? Any honest opinions would be greatly appreciated. Thank you \",\n",
       " \"XRP's price, Breaks 1 DOLLAR and still going up, despite Gensler's still in office , Rlusd's delayed launch, and Trump not yet in the White House.\",\n",
       " 'genuine question, how do you guys get the conviction to buy and hold btc for so long?\\n\\n\\n are you guys treating btc like s&p500?\\n\\n\\nas stable as btc is for the past years what makes you guys wanna HODL',\n",
       " 'https://dexscreener.com/solana/8xNM25ipzF5BoZ3cC1L3CBNwSqxVC51GPa19iKvh5gMp',\n",
       " \"i haven't bought them yet, any advice?\\nI already have a pretty solid portfolio for this bullrun but i'm looking for slightly more risky options just for fun. thanks! 🙏 \\n(actually not ren, just sythetix and/or cartesi)\",\n",
       " \"\\xa0I'm interested in trying scalping, but I'm not sure where to start. Any tips or advice for beginners?\"}"
      ]
     },
     "execution_count": 7,
     "metadata": {},
     "output_type": "execute_result"
    }
   ],
   "source": [
    "set(cont)"
   ]
  },
  {
   "cell_type": "code",
   "execution_count": 8,
   "metadata": {},
   "outputs": [],
   "source": [
    "subm = posts[0]"
   ]
  },
  {
   "cell_type": "code",
   "execution_count": 9,
   "metadata": {},
   "outputs": [
    {
     "data": {
      "text/plain": [
       "'/r/CryptoMarkets/comments/1gs6u6g/thoughts_on_these_alts_sythetix_ren_cartesi/'"
      ]
     },
     "execution_count": 9,
     "metadata": {},
     "output_type": "execute_result"
    }
   ],
   "source": [
    "subm.permalink"
   ]
  },
  {
   "cell_type": "code",
   "execution_count": 10,
   "metadata": {},
   "outputs": [
    {
     "data": {
      "text/plain": [
       "{'BTC': ['long time bitcoiners',\n",
       "  'BTC pump reach possible $100000?',\n",
       "  '$MSTR announced a raise of $42B to buy more Bitcoin, which is equivalent as buying at $85k/BTC every Bitcoin mined for the next 3 years!',\n",
       "  'Bitcoin this cycle ',\n",
       "  'Should I put my bitcoin into alt coins?'],\n",
       " 'ETH': ['Ethereum Price Prediction: ETH Eyes $4,000 with Bullish Momentum'],\n",
       " 'USDT': [],\n",
       " 'SOL': ['Spath meme token solana'],\n",
       " 'BNB': [],\n",
       " 'XRP': [\"What's everybody's take on XRP?\", 'ADA VS XRP'],\n",
       " 'DOGE': [],\n",
       " 'USDC': [],\n",
       " 'ADA': ['Genuine Ranking Question - LINK, HBAR, ALGO, ADA',\n",
       "  'LINK, HBAR, ALGO, ADA - Please rank!',\n",
       "  'Charles Hoskinson (ADA) SpaceX Deal? [Rumor]',\n",
       "  'ADA VS XRP'],\n",
       " 'TRX': []}"
      ]
     },
     "execution_count": 10,
     "metadata": {},
     "output_type": "execute_result"
    }
   ],
   "source": [
    "sorted = sesh.get_sorted_contents(posts)\n",
    "sorted"
   ]
  }
 ],
 "metadata": {
  "kernelspec": {
   "display_name": "Python 3",
   "language": "python",
   "name": "python3"
  },
  "language_info": {
   "codemirror_mode": {
    "name": "ipython",
    "version": 3
   },
   "file_extension": ".py",
   "mimetype": "text/x-python",
   "name": "python",
   "nbconvert_exporter": "python",
   "pygments_lexer": "ipython3",
   "version": "3.11.2"
  }
 },
 "nbformat": 4,
 "nbformat_minor": 2
}
